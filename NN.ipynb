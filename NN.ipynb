{
 "cells": [
  {
   "cell_type": "code",
   "execution_count": 1,
   "id": "c7180658",
   "metadata": {},
   "outputs": [],
   "source": [
    "import pandas as pd\n",
    "import numpy as np"
   ]
  },
  {
   "cell_type": "code",
   "execution_count": 2,
   "id": "999c2ea3",
   "metadata": {},
   "outputs": [],
   "source": [
    "df=pd.read_csv('./combined_data.csv')"
   ]
  },
  {
   "cell_type": "code",
   "execution_count": 3,
   "id": "f85f5d00",
   "metadata": {},
   "outputs": [],
   "source": [
    "df.drop(['UID','request_id','approved_on','requested_on','Unnamed: 0'],axis=1,inplace=True)"
   ]
  },
  {
   "cell_type": "code",
   "execution_count": 4,
   "id": "3dac0b75",
   "metadata": {},
   "outputs": [],
   "source": [
    "data=df[df['approval_status']=='Approved']"
   ]
  },
  {
   "cell_type": "code",
   "execution_count": 5,
   "id": "a3d04697",
   "metadata": {},
   "outputs": [
    {
     "name": "stderr",
     "output_type": "stream",
     "text": [
      "C:\\Users\\SaiRamMaganti\\AppData\\Local\\Temp\\ipykernel_14224\\2905467368.py:1: SettingWithCopyWarning: \n",
      "A value is trying to be set on a copy of a slice from a DataFrame\n",
      "\n",
      "See the caveats in the documentation: https://pandas.pydata.org/pandas-docs/stable/user_guide/indexing.html#returning-a-view-versus-a-copy\n",
      "  data.drop(['approver'],axis=1,inplace=True)\n"
     ]
    }
   ],
   "source": [
    "data.drop(['approver'],axis=1,inplace=True)"
   ]
  },
  {
   "cell_type": "code",
   "execution_count": 6,
   "id": "d51cb944",
   "metadata": {},
   "outputs": [
    {
     "name": "stderr",
     "output_type": "stream",
     "text": [
      "C:\\Users\\SaiRamMaganti\\AppData\\Local\\Temp\\ipykernel_14224\\1481874764.py:1: SettingWithCopyWarning: \n",
      "A value is trying to be set on a copy of a slice from a DataFrame\n",
      "\n",
      "See the caveats in the documentation: https://pandas.pydata.org/pandas-docs/stable/user_guide/indexing.html#returning-a-view-versus-a-copy\n",
      "  data.drop(['approval_status'],axis=1,inplace=True)\n"
     ]
    }
   ],
   "source": [
    "data.drop(['approval_status'],axis=1,inplace=True)"
   ]
  },
  {
   "cell_type": "code",
   "execution_count": 7,
   "id": "e0fa8391",
   "metadata": {},
   "outputs": [
    {
     "data": {
      "text/html": [
       "<div>\n",
       "<style scoped>\n",
       "    .dataframe tbody tr th:only-of-type {\n",
       "        vertical-align: middle;\n",
       "    }\n",
       "\n",
       "    .dataframe tbody tr th {\n",
       "        vertical-align: top;\n",
       "    }\n",
       "\n",
       "    .dataframe thead th {\n",
       "        text-align: right;\n",
       "    }\n",
       "</style>\n",
       "<table border=\"1\" class=\"dataframe\">\n",
       "  <thead>\n",
       "    <tr style=\"text-align: right;\">\n",
       "      <th></th>\n",
       "      <th>application</th>\n",
       "      <th>request_type</th>\n",
       "      <th>request_status</th>\n",
       "      <th>account_name</th>\n",
       "      <th>entitlement</th>\n",
       "      <th>entitlement_value</th>\n",
       "      <th>approval_type</th>\n",
       "      <th>employeeType</th>\n",
       "      <th>dept</th>\n",
       "      <th>div</th>\n",
       "      <th>hrOrganizationCode</th>\n",
       "    </tr>\n",
       "  </thead>\n",
       "  <tbody>\n",
       "    <tr>\n",
       "      <th>1</th>\n",
       "      <td>Application_0</td>\n",
       "      <td>Modify Account</td>\n",
       "      <td>Approval Complete</td>\n",
       "      <td>account_0</td>\n",
       "      <td>entitlement_0</td>\n",
       "      <td>ent_val_0</td>\n",
       "      <td>app_type_2</td>\n",
       "      <td>emType_2</td>\n",
       "      <td>dept_8828</td>\n",
       "      <td>div_60</td>\n",
       "      <td>hrCode_34</td>\n",
       "    </tr>\n",
       "    <tr>\n",
       "      <th>2</th>\n",
       "      <td>Application_26</td>\n",
       "      <td>New Account</td>\n",
       "      <td>Approval Complete</td>\n",
       "      <td>account_0</td>\n",
       "      <td>entitlement_2</td>\n",
       "      <td>ent_val_6</td>\n",
       "      <td>app_type_28</td>\n",
       "      <td>emType_2</td>\n",
       "      <td>dept_8828</td>\n",
       "      <td>div_60</td>\n",
       "      <td>hrCode_34</td>\n",
       "    </tr>\n",
       "    <tr>\n",
       "      <th>3</th>\n",
       "      <td>Application_0</td>\n",
       "      <td>Modify Account</td>\n",
       "      <td>Approval Complete</td>\n",
       "      <td>account_1</td>\n",
       "      <td>entitlement_0</td>\n",
       "      <td>ent_val_1</td>\n",
       "      <td>app_type_1</td>\n",
       "      <td>emType_2</td>\n",
       "      <td>dept_9022</td>\n",
       "      <td>div_13</td>\n",
       "      <td>hrCode_116</td>\n",
       "    </tr>\n",
       "    <tr>\n",
       "      <th>4</th>\n",
       "      <td>Application_0</td>\n",
       "      <td>Modify Account</td>\n",
       "      <td>Approval Complete</td>\n",
       "      <td>account_10</td>\n",
       "      <td>entitlement_0</td>\n",
       "      <td>ent_val_3</td>\n",
       "      <td>app_type_2</td>\n",
       "      <td>emType_2</td>\n",
       "      <td>dept_6732</td>\n",
       "      <td>div_387</td>\n",
       "      <td>hrCode_11</td>\n",
       "    </tr>\n",
       "    <tr>\n",
       "      <th>5</th>\n",
       "      <td>Application_0</td>\n",
       "      <td>Modify Account</td>\n",
       "      <td>Approval Complete</td>\n",
       "      <td>account_10</td>\n",
       "      <td>entitlement_0</td>\n",
       "      <td>ent_val_3</td>\n",
       "      <td>app_type_0</td>\n",
       "      <td>emType_2</td>\n",
       "      <td>dept_6732</td>\n",
       "      <td>div_387</td>\n",
       "      <td>hrCode_11</td>\n",
       "    </tr>\n",
       "    <tr>\n",
       "      <th>...</th>\n",
       "      <td>...</td>\n",
       "      <td>...</td>\n",
       "      <td>...</td>\n",
       "      <td>...</td>\n",
       "      <td>...</td>\n",
       "      <td>...</td>\n",
       "      <td>...</td>\n",
       "      <td>...</td>\n",
       "      <td>...</td>\n",
       "      <td>...</td>\n",
       "      <td>...</td>\n",
       "    </tr>\n",
       "    <tr>\n",
       "      <th>232276</th>\n",
       "      <td>Application_52</td>\n",
       "      <td>New Account</td>\n",
       "      <td>Approval Complete</td>\n",
       "      <td>account_9997</td>\n",
       "      <td>entitlement_1</td>\n",
       "      <td>ent_val_745</td>\n",
       "      <td>app_type_36</td>\n",
       "      <td>emType_2</td>\n",
       "      <td>dept_3929</td>\n",
       "      <td>div_7</td>\n",
       "      <td>hrCode_24</td>\n",
       "    </tr>\n",
       "    <tr>\n",
       "      <th>232277</th>\n",
       "      <td>Application_52</td>\n",
       "      <td>New Account</td>\n",
       "      <td>Approval Complete</td>\n",
       "      <td>account_9998</td>\n",
       "      <td>entitlement_2</td>\n",
       "      <td>ent_val_6</td>\n",
       "      <td>app_type_36</td>\n",
       "      <td>emType_2</td>\n",
       "      <td>dept_8920</td>\n",
       "      <td>div_7</td>\n",
       "      <td>hrCode_455</td>\n",
       "    </tr>\n",
       "    <tr>\n",
       "      <th>232278</th>\n",
       "      <td>Application_52</td>\n",
       "      <td>New Account</td>\n",
       "      <td>Approval Complete</td>\n",
       "      <td>account_9998</td>\n",
       "      <td>entitlement_1</td>\n",
       "      <td>ent_val_745</td>\n",
       "      <td>app_type_36</td>\n",
       "      <td>emType_2</td>\n",
       "      <td>dept_8920</td>\n",
       "      <td>div_7</td>\n",
       "      <td>hrCode_455</td>\n",
       "    </tr>\n",
       "    <tr>\n",
       "      <th>232279</th>\n",
       "      <td>Application_52</td>\n",
       "      <td>New Account</td>\n",
       "      <td>Approval Complete</td>\n",
       "      <td>account_9999</td>\n",
       "      <td>entitlement_2</td>\n",
       "      <td>ent_val_6</td>\n",
       "      <td>app_type_36</td>\n",
       "      <td>emType_2</td>\n",
       "      <td>dept_9812</td>\n",
       "      <td>div_7</td>\n",
       "      <td>hrCode_89</td>\n",
       "    </tr>\n",
       "    <tr>\n",
       "      <th>232280</th>\n",
       "      <td>Application_52</td>\n",
       "      <td>New Account</td>\n",
       "      <td>Approval Complete</td>\n",
       "      <td>account_9999</td>\n",
       "      <td>entitlement_1</td>\n",
       "      <td>ent_val_746</td>\n",
       "      <td>app_type_36</td>\n",
       "      <td>emType_2</td>\n",
       "      <td>dept_9812</td>\n",
       "      <td>div_7</td>\n",
       "      <td>hrCode_89</td>\n",
       "    </tr>\n",
       "  </tbody>\n",
       "</table>\n",
       "<p>221414 rows × 11 columns</p>\n",
       "</div>"
      ],
      "text/plain": [
       "           application    request_type     request_status  account_name  \\\n",
       "1        Application_0  Modify Account  Approval Complete     account_0   \n",
       "2       Application_26     New Account  Approval Complete     account_0   \n",
       "3        Application_0  Modify Account  Approval Complete     account_1   \n",
       "4        Application_0  Modify Account  Approval Complete    account_10   \n",
       "5        Application_0  Modify Account  Approval Complete    account_10   \n",
       "...                ...             ...                ...           ...   \n",
       "232276  Application_52     New Account  Approval Complete  account_9997   \n",
       "232277  Application_52     New Account  Approval Complete  account_9998   \n",
       "232278  Application_52     New Account  Approval Complete  account_9998   \n",
       "232279  Application_52     New Account  Approval Complete  account_9999   \n",
       "232280  Application_52     New Account  Approval Complete  account_9999   \n",
       "\n",
       "          entitlement entitlement_value approval_type employeeType       dept  \\\n",
       "1       entitlement_0         ent_val_0    app_type_2     emType_2  dept_8828   \n",
       "2       entitlement_2         ent_val_6   app_type_28     emType_2  dept_8828   \n",
       "3       entitlement_0         ent_val_1    app_type_1     emType_2  dept_9022   \n",
       "4       entitlement_0         ent_val_3    app_type_2     emType_2  dept_6732   \n",
       "5       entitlement_0         ent_val_3    app_type_0     emType_2  dept_6732   \n",
       "...               ...               ...           ...          ...        ...   \n",
       "232276  entitlement_1       ent_val_745   app_type_36     emType_2  dept_3929   \n",
       "232277  entitlement_2         ent_val_6   app_type_36     emType_2  dept_8920   \n",
       "232278  entitlement_1       ent_val_745   app_type_36     emType_2  dept_8920   \n",
       "232279  entitlement_2         ent_val_6   app_type_36     emType_2  dept_9812   \n",
       "232280  entitlement_1       ent_val_746   app_type_36     emType_2  dept_9812   \n",
       "\n",
       "            div hrOrganizationCode  \n",
       "1        div_60          hrCode_34  \n",
       "2        div_60          hrCode_34  \n",
       "3        div_13         hrCode_116  \n",
       "4       div_387          hrCode_11  \n",
       "5       div_387          hrCode_11  \n",
       "...         ...                ...  \n",
       "232276    div_7          hrCode_24  \n",
       "232277    div_7         hrCode_455  \n",
       "232278    div_7         hrCode_455  \n",
       "232279    div_7          hrCode_89  \n",
       "232280    div_7          hrCode_89  \n",
       "\n",
       "[221414 rows x 11 columns]"
      ]
     },
     "execution_count": 7,
     "metadata": {},
     "output_type": "execute_result"
    }
   ],
   "source": [
    "data"
   ]
  },
  {
   "cell_type": "code",
   "execution_count": 8,
   "id": "942cfd4f",
   "metadata": {},
   "outputs": [
    {
     "name": "stderr",
     "output_type": "stream",
     "text": [
      "C:\\Users\\SaiRamMaganti\\AppData\\Local\\Temp\\ipykernel_14224\\1101860288.py:5: SettingWithCopyWarning: \n",
      "A value is trying to be set on a copy of a slice from a DataFrame.\n",
      "Try using .loc[row_indexer,col_indexer] = value instead\n",
      "\n",
      "See the caveats in the documentation: https://pandas.pydata.org/pandas-docs/stable/user_guide/indexing.html#returning-a-view-versus-a-copy\n",
      "  data[col] = encoder.fit_transform(data[col])\n"
     ]
    }
   ],
   "source": [
    "from sklearn.preprocessing import LabelEncoder\n",
    "\n",
    "encoder = LabelEncoder()\n",
    "for col in data.columns:\n",
    "    data[col] = encoder.fit_transform(data[col])"
   ]
  },
  {
   "cell_type": "code",
   "execution_count": 9,
   "id": "9a429ebe",
   "metadata": {},
   "outputs": [
    {
     "data": {
      "text/html": [
       "<div>\n",
       "<style scoped>\n",
       "    .dataframe tbody tr th:only-of-type {\n",
       "        vertical-align: middle;\n",
       "    }\n",
       "\n",
       "    .dataframe tbody tr th {\n",
       "        vertical-align: top;\n",
       "    }\n",
       "\n",
       "    .dataframe thead th {\n",
       "        text-align: right;\n",
       "    }\n",
       "</style>\n",
       "<table border=\"1\" class=\"dataframe\">\n",
       "  <thead>\n",
       "    <tr style=\"text-align: right;\">\n",
       "      <th></th>\n",
       "      <th>application</th>\n",
       "      <th>request_type</th>\n",
       "      <th>request_status</th>\n",
       "      <th>account_name</th>\n",
       "      <th>entitlement</th>\n",
       "      <th>entitlement_value</th>\n",
       "      <th>approval_type</th>\n",
       "      <th>employeeType</th>\n",
       "      <th>dept</th>\n",
       "      <th>div</th>\n",
       "      <th>hrOrganizationCode</th>\n",
       "    </tr>\n",
       "  </thead>\n",
       "  <tbody>\n",
       "    <tr>\n",
       "      <th>1</th>\n",
       "      <td>0</td>\n",
       "      <td>0</td>\n",
       "      <td>0</td>\n",
       "      <td>0</td>\n",
       "      <td>0</td>\n",
       "      <td>0</td>\n",
       "      <td>111</td>\n",
       "      <td>5</td>\n",
       "      <td>12007</td>\n",
       "      <td>430</td>\n",
       "      <td>268</td>\n",
       "    </tr>\n",
       "    <tr>\n",
       "      <th>2</th>\n",
       "      <td>344</td>\n",
       "      <td>1</td>\n",
       "      <td>0</td>\n",
       "      <td>0</td>\n",
       "      <td>109</td>\n",
       "      <td>11179</td>\n",
       "      <td>157</td>\n",
       "      <td>5</td>\n",
       "      <td>12007</td>\n",
       "      <td>430</td>\n",
       "      <td>268</td>\n",
       "    </tr>\n",
       "    <tr>\n",
       "      <th>3</th>\n",
       "      <td>0</td>\n",
       "      <td>0</td>\n",
       "      <td>0</td>\n",
       "      <td>1</td>\n",
       "      <td>0</td>\n",
       "      <td>1</td>\n",
       "      <td>1</td>\n",
       "      <td>5</td>\n",
       "      <td>12224</td>\n",
       "      <td>35</td>\n",
       "      <td>20</td>\n",
       "    </tr>\n",
       "    <tr>\n",
       "      <th>4</th>\n",
       "      <td>0</td>\n",
       "      <td>0</td>\n",
       "      <td>0</td>\n",
       "      <td>2</td>\n",
       "      <td>0</td>\n",
       "      <td>8129</td>\n",
       "      <td>111</td>\n",
       "      <td>5</td>\n",
       "      <td>9694</td>\n",
       "      <td>320</td>\n",
       "      <td>13</td>\n",
       "    </tr>\n",
       "    <tr>\n",
       "      <th>5</th>\n",
       "      <td>0</td>\n",
       "      <td>0</td>\n",
       "      <td>0</td>\n",
       "      <td>2</td>\n",
       "      <td>0</td>\n",
       "      <td>8129</td>\n",
       "      <td>0</td>\n",
       "      <td>5</td>\n",
       "      <td>9694</td>\n",
       "      <td>320</td>\n",
       "      <td>13</td>\n",
       "    </tr>\n",
       "    <tr>\n",
       "      <th>...</th>\n",
       "      <td>...</td>\n",
       "      <td>...</td>\n",
       "      <td>...</td>\n",
       "      <td>...</td>\n",
       "      <td>...</td>\n",
       "      <td>...</td>\n",
       "      <td>...</td>\n",
       "      <td>...</td>\n",
       "      <td>...</td>\n",
       "      <td>...</td>\n",
       "      <td>...</td>\n",
       "    </tr>\n",
       "    <tr>\n",
       "      <th>232276</th>\n",
       "      <td>618</td>\n",
       "      <td>1</td>\n",
       "      <td>0</td>\n",
       "      <td>28171</td>\n",
       "      <td>1</td>\n",
       "      <td>12628</td>\n",
       "      <td>166</td>\n",
       "      <td>5</td>\n",
       "      <td>6591</td>\n",
       "      <td>440</td>\n",
       "      <td>157</td>\n",
       "    </tr>\n",
       "    <tr>\n",
       "      <th>232277</th>\n",
       "      <td>618</td>\n",
       "      <td>1</td>\n",
       "      <td>0</td>\n",
       "      <td>28172</td>\n",
       "      <td>109</td>\n",
       "      <td>11179</td>\n",
       "      <td>166</td>\n",
       "      <td>5</td>\n",
       "      <td>12110</td>\n",
       "      <td>440</td>\n",
       "      <td>396</td>\n",
       "    </tr>\n",
       "    <tr>\n",
       "      <th>232278</th>\n",
       "      <td>618</td>\n",
       "      <td>1</td>\n",
       "      <td>0</td>\n",
       "      <td>28172</td>\n",
       "      <td>1</td>\n",
       "      <td>12628</td>\n",
       "      <td>166</td>\n",
       "      <td>5</td>\n",
       "      <td>12110</td>\n",
       "      <td>440</td>\n",
       "      <td>396</td>\n",
       "    </tr>\n",
       "    <tr>\n",
       "      <th>232279</th>\n",
       "      <td>618</td>\n",
       "      <td>1</td>\n",
       "      <td>0</td>\n",
       "      <td>28173</td>\n",
       "      <td>109</td>\n",
       "      <td>11179</td>\n",
       "      <td>166</td>\n",
       "      <td>5</td>\n",
       "      <td>13096</td>\n",
       "      <td>440</td>\n",
       "      <td>559</td>\n",
       "    </tr>\n",
       "    <tr>\n",
       "      <th>232280</th>\n",
       "      <td>618</td>\n",
       "      <td>1</td>\n",
       "      <td>0</td>\n",
       "      <td>28173</td>\n",
       "      <td>1</td>\n",
       "      <td>12634</td>\n",
       "      <td>166</td>\n",
       "      <td>5</td>\n",
       "      <td>13096</td>\n",
       "      <td>440</td>\n",
       "      <td>559</td>\n",
       "    </tr>\n",
       "  </tbody>\n",
       "</table>\n",
       "<p>221414 rows × 11 columns</p>\n",
       "</div>"
      ],
      "text/plain": [
       "        application  request_type  request_status  account_name  entitlement  \\\n",
       "1                 0             0               0             0            0   \n",
       "2               344             1               0             0          109   \n",
       "3                 0             0               0             1            0   \n",
       "4                 0             0               0             2            0   \n",
       "5                 0             0               0             2            0   \n",
       "...             ...           ...             ...           ...          ...   \n",
       "232276          618             1               0         28171            1   \n",
       "232277          618             1               0         28172          109   \n",
       "232278          618             1               0         28172            1   \n",
       "232279          618             1               0         28173          109   \n",
       "232280          618             1               0         28173            1   \n",
       "\n",
       "        entitlement_value  approval_type  employeeType   dept  div  \\\n",
       "1                       0            111             5  12007  430   \n",
       "2                   11179            157             5  12007  430   \n",
       "3                       1              1             5  12224   35   \n",
       "4                    8129            111             5   9694  320   \n",
       "5                    8129              0             5   9694  320   \n",
       "...                   ...            ...           ...    ...  ...   \n",
       "232276              12628            166             5   6591  440   \n",
       "232277              11179            166             5  12110  440   \n",
       "232278              12628            166             5  12110  440   \n",
       "232279              11179            166             5  13096  440   \n",
       "232280              12634            166             5  13096  440   \n",
       "\n",
       "        hrOrganizationCode  \n",
       "1                      268  \n",
       "2                      268  \n",
       "3                       20  \n",
       "4                       13  \n",
       "5                       13  \n",
       "...                    ...  \n",
       "232276                 157  \n",
       "232277                 396  \n",
       "232278                 396  \n",
       "232279                 559  \n",
       "232280                 559  \n",
       "\n",
       "[221414 rows x 11 columns]"
      ]
     },
     "execution_count": 9,
     "metadata": {},
     "output_type": "execute_result"
    }
   ],
   "source": [
    "data"
   ]
  },
  {
   "cell_type": "code",
   "execution_count": 10,
   "id": "b728e195",
   "metadata": {},
   "outputs": [],
   "source": [
    "features=list(data.columns)[1:]"
   ]
  },
  {
   "cell_type": "code",
   "execution_count": 11,
   "id": "9103f796",
   "metadata": {},
   "outputs": [
    {
     "data": {
      "text/plain": [
       "['request_type',\n",
       " 'request_status',\n",
       " 'account_name',\n",
       " 'entitlement',\n",
       " 'entitlement_value',\n",
       " 'approval_type',\n",
       " 'employeeType',\n",
       " 'dept',\n",
       " 'div',\n",
       " 'hrOrganizationCode']"
      ]
     },
     "execution_count": 11,
     "metadata": {},
     "output_type": "execute_result"
    }
   ],
   "source": [
    "features"
   ]
  },
  {
   "cell_type": "code",
   "execution_count": 54,
   "id": "10fb675d",
   "metadata": {},
   "outputs": [],
   "source": [
    "data = data.sample(frac = 1)"
   ]
  },
  {
   "cell_type": "code",
   "execution_count": 55,
   "id": "7a78b0de",
   "metadata": {},
   "outputs": [],
   "source": [
    "mask = np.random.rand(len(data)) <= 0.98\n",
    "\n",
    "train = data[mask]\n",
    "test = data[~mask]"
   ]
  },
  {
   "cell_type": "code",
   "execution_count": 56,
   "id": "f21f2612",
   "metadata": {},
   "outputs": [
    {
     "name": "stdout",
     "output_type": "stream",
     "text": [
      "217015\n",
      "4399\n",
      "(4399, 11)\n"
     ]
    }
   ],
   "source": [
    "print(len(train))\n",
    "print(len(test))\n",
    "print(test.shape)"
   ]
  },
  {
   "cell_type": "code",
   "execution_count": 57,
   "id": "cb800b94",
   "metadata": {},
   "outputs": [],
   "source": [
    "x_train=train[features]\n",
    "y_train=train['application']\n",
    "\n",
    "x_test=test[features]\n",
    "y_test=test['application']"
   ]
  },
  {
   "cell_type": "code",
   "execution_count": 58,
   "id": "6c7094a8",
   "metadata": {},
   "outputs": [
    {
     "data": {
      "text/plain": [
       "1091"
      ]
     },
     "execution_count": 58,
     "metadata": {},
     "output_type": "execute_result"
    }
   ],
   "source": [
    "len(data['application'].unique())"
   ]
  },
  {
   "cell_type": "code",
   "execution_count": 59,
   "id": "1f6619ad",
   "metadata": {},
   "outputs": [
    {
     "data": {
      "text/plain": [
       "1091"
      ]
     },
     "execution_count": 59,
     "metadata": {},
     "output_type": "execute_result"
    }
   ],
   "source": [
    "len(y_train.unique())"
   ]
  },
  {
   "cell_type": "code",
   "execution_count": 60,
   "id": "32ce89f1",
   "metadata": {},
   "outputs": [],
   "source": [
    "from keras.utils import np_utils\n",
    "dummy_y = np_utils.to_categorical(y_train)"
   ]
  },
  {
   "cell_type": "code",
   "execution_count": 61,
   "id": "d72ee36e",
   "metadata": {},
   "outputs": [
    {
     "data": {
      "text/plain": [
       "1091"
      ]
     },
     "execution_count": 61,
     "metadata": {},
     "output_type": "execute_result"
    }
   ],
   "source": [
    "len(dummy_y[0])"
   ]
  },
  {
   "cell_type": "code",
   "execution_count": 62,
   "id": "c120c692",
   "metadata": {},
   "outputs": [],
   "source": [
    "from keras.wrappers.scikit_learn import KerasClassifier\n",
    "\n",
    "from keras.models import Sequential\n",
    "from keras.layers import Dense, Dropout\n",
    "from keras.callbacks import EarlyStopping"
   ]
  },
  {
   "cell_type": "code",
   "execution_count": 63,
   "id": "d57f9a76",
   "metadata": {},
   "outputs": [
    {
     "name": "stdout",
     "output_type": "stream",
     "text": [
      "Model: \"sequential\"\n",
      "_________________________________________________________________\n",
      " Layer (type)                Output Shape              Param #   \n",
      "=================================================================\n",
      " dense (Dense)               (None, 10)                110       \n",
      "                                                                 \n",
      " dense_1 (Dense)             (None, 16)                176       \n",
      "                                                                 \n",
      " dense_2 (Dense)             (None, 16)                272       \n",
      "                                                                 \n",
      " dense_3 (Dense)             (None, 1091)              18547     \n",
      "                                                                 \n",
      "=================================================================\n",
      "Total params: 19,105\n",
      "Trainable params: 19,105\n",
      "Non-trainable params: 0\n",
      "_________________________________________________________________\n"
     ]
    }
   ],
   "source": [
    "model = Sequential()\n",
    "model.add(Dense(10, input_shape=(x_train.shape[1],), activation='relu')) # input shape is (features,)\n",
    "model.add(Dense(16, activation = 'relu'))\n",
    "model.add(Dense(16, activation = 'relu'))\n",
    "model.add(Dense(1091, activation='softmax'))\n",
    "model.summary()\n",
    "\n",
    "model.compile(optimizer='Adam', \n",
    "              loss='categorical_crossentropy', # this is different instead of binary_crossentropy (for regular classification)\n",
    "              metrics=['accuracy'])"
   ]
  },
  {
   "cell_type": "code",
   "execution_count": 64,
   "id": "97a68233",
   "metadata": {},
   "outputs": [
    {
     "name": "stdout",
     "output_type": "stream",
     "text": [
      "Epoch 1/10\n",
      "17362/17362 [==============================] - 67s 4ms/step - loss: 5.4490 - accuracy: 0.1113 - val_loss: 4.5064 - val_accuracy: 0.1110\n",
      "Epoch 2/10\n",
      "17362/17362 [==============================] - 63s 4ms/step - loss: 4.5036 - accuracy: 0.1115 - val_loss: 4.5112 - val_accuracy: 0.1110\n",
      "Epoch 3/10\n",
      "17362/17362 [==============================] - 63s 4ms/step - loss: 4.5068 - accuracy: 0.1115 - val_loss: 4.5170 - val_accuracy: 0.1110\n",
      "Epoch 4/10\n",
      "17362/17362 [==============================] - 67s 4ms/step - loss: 4.5096 - accuracy: 0.1115 - val_loss: 4.5204 - val_accuracy: 0.1110\n",
      "Epoch 5/10\n",
      "17362/17362 [==============================] - 66s 4ms/step - loss: 4.5117 - accuracy: 0.1115 - val_loss: 4.5224 - val_accuracy: 0.1110\n",
      "Epoch 6/10\n",
      "17362/17362 [==============================] - 58s 3ms/step - loss: 4.5132 - accuracy: 0.1115 - val_loss: 4.5239 - val_accuracy: 0.1110\n",
      "Epoch 7/10\n",
      "17362/17362 [==============================] - 56s 3ms/step - loss: 4.5142 - accuracy: 0.1115 - val_loss: 4.5254 - val_accuracy: 0.1110\n",
      "Epoch 8/10\n",
      "17362/17362 [==============================] - 63s 4ms/step - loss: 4.5147 - accuracy: 0.1115 - val_loss: 4.5258 - val_accuracy: 0.1110\n",
      "Epoch 9/10\n",
      "17362/17362 [==============================] - 68s 4ms/step - loss: 4.5155 - accuracy: 0.1115 - val_loss: 4.5269 - val_accuracy: 0.1110\n",
      "Epoch 10/10\n",
      "17362/17362 [==============================] - 69s 4ms/step - loss: 4.5159 - accuracy: 0.1115 - val_loss: 4.5275 - val_accuracy: 0.1110\n"
     ]
    }
   ],
   "source": [
    "import keras\n",
    "from keras.callbacks import EarlyStopping\n",
    "\n",
    "# early stopping callback\n",
    "# This callback will stop the training when there is no improvement in  \n",
    "# the validation loss for 10 consecutive epochs.  \n",
    "es = keras.callbacks.EarlyStopping(monitor='val_loss', \n",
    "                                   mode='min',\n",
    "                                   patience=10, \n",
    "                                   restore_best_weights=True) # important - otherwise you just return the last weigths...\n",
    "\n",
    "# now we just update our model fit call\n",
    "history = model.fit(x_train,\n",
    "                    dummy_y,\n",
    "                    callbacks=[es],\n",
    "                    epochs=10, # you can set this to a big number!\n",
    "                    batch_size=10,\n",
    "                    shuffle=True,\n",
    "                    validation_split=0.2,\n",
    "                    verbose=1)"
   ]
  },
  {
   "cell_type": "code",
   "execution_count": 67,
   "id": "3ea25723",
   "metadata": {},
   "outputs": [
    {
     "name": "stdout",
     "output_type": "stream",
     "text": [
      "138/138 [==============================] - 1s 3ms/step\n",
      "[2.0055561e-03 1.2678732e-04 6.1541374e-07 ... 2.1243935e-08 1.3079557e-07\n",
      " 1.1066810e-05]\n",
      "0.9999999\n"
     ]
    }
   ],
   "source": [
    "preds = model.predict(x_test) # see how the model did!\n",
    "print(preds[0]) # i'm spreading that prediction across three nodes and they sum to 1\n",
    "print(np.sum(preds[0]))"
   ]
  },
  {
   "cell_type": "code",
   "execution_count": 81,
   "id": "ffcdaf90",
   "metadata": {},
   "outputs": [
    {
     "name": "stdout",
     "output_type": "stream",
     "text": [
      "[0.11101282, 0.08446016, 0.07133432, 0.06307219, 0.031299066]\n",
      "(array([488], dtype=int64),)\n",
      "(array([126], dtype=int64),)\n",
      "(array([595], dtype=int64),)\n",
      "(array([955], dtype=int64),)\n",
      "(array([507], dtype=int64),)\n"
     ]
    }
   ],
   "source": [
    "ar=sorted(preds[0],reverse=True)[:5]\n",
    "print(ar)\n",
    "for i in ar:\n",
    "    print(np.where(preds[0]==i))"
   ]
  },
  {
   "cell_type": "code",
   "execution_count": 76,
   "id": "86998d4f",
   "metadata": {},
   "outputs": [
    {
     "data": {
      "text/plain": [
       "77879     413\n",
       "62067     364\n",
       "69721     595\n",
       "149685    598\n",
       "40824     325\n",
       "         ... \n",
       "166187    955\n",
       "112377    360\n",
       "216440    198\n",
       "37233     277\n",
       "226244    506\n",
       "Name: application, Length: 4399, dtype: int32"
      ]
     },
     "execution_count": 76,
     "metadata": {},
     "output_type": "execute_result"
    }
   ],
   "source": [
    "y_test"
   ]
  },
  {
   "cell_type": "code",
   "execution_count": null,
   "id": "69760b3e",
   "metadata": {},
   "outputs": [],
   "source": []
  }
 ],
 "metadata": {
  "kernelspec": {
   "display_name": "Python 3 (ipykernel)",
   "language": "python",
   "name": "python3"
  },
  "language_info": {
   "codemirror_mode": {
    "name": "ipython",
    "version": 3
   },
   "file_extension": ".py",
   "mimetype": "text/x-python",
   "name": "python",
   "nbconvert_exporter": "python",
   "pygments_lexer": "ipython3",
   "version": "3.9.13"
  }
 },
 "nbformat": 4,
 "nbformat_minor": 5
}
