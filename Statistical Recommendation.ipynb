{
 "cells": [
  {
   "cell_type": "code",
   "execution_count": 1,
   "id": "2002e79a",
   "metadata": {},
   "outputs": [],
   "source": [
    "import pandas as pd"
   ]
  },
  {
   "cell_type": "code",
   "execution_count": 2,
   "id": "44c95bdf",
   "metadata": {},
   "outputs": [],
   "source": [
    "df = pd.read_csv('datasets/combined_data.csv')"
   ]
  },
  {
   "cell_type": "code",
   "execution_count": 3,
   "id": "85245315",
   "metadata": {},
   "outputs": [
    {
     "name": "stdout",
     "output_type": "stream",
     "text": [
      "The features in the dataset are \n",
      "-------------------------------------------------------------------------------------\n",
      "Index(['UID', 'application', 'request_id', 'request_type', 'request_status',\n",
      "       'account_name', 'entitlement', 'entitlement_value', 'approval_type',\n",
      "       'approver', 'approved_on', 'approval_status', 'requested_on',\n",
      "       'Unnamed: 0', 'employeeType', 'dept', 'div', 'hrOrganizationCode'],\n",
      "      dtype='object')\n"
     ]
    }
   ],
   "source": [
    "print('The features in the dataset are \\n-------------------------------------------------------------------------------------')\n",
    "print(df.columns)"
   ]
  },
  {
   "cell_type": "code",
   "execution_count": 4,
   "id": "b2bfcc71",
   "metadata": {},
   "outputs": [],
   "source": [
    "#Removing unwanted columns from the dataset\n",
    "\n",
    "columns = ['UID',\n",
    "           'request_id',\n",
    "           'request_type',\n",
    "           'request_status',\n",
    "           'account_name',\n",
    "           'approval_type',\n",
    "           'approver',\n",
    "           'approved_on',\n",
    "           'requested_on',\n",
    "           'entitlement_value',\n",
    "           'Unnamed: 0',\n",
    "           'employeeType',\n",
    "           'dept',\n",
    "           'div',\n",
    "           'hrOrganizationCode']\n",
    "\n",
    "df.drop(columns, axis=1, inplace=True)"
   ]
  },
  {
   "cell_type": "code",
   "execution_count": 5,
   "id": "3f0a3543",
   "metadata": {},
   "outputs": [
    {
     "name": "stdout",
     "output_type": "stream",
     "text": [
      "The shape of the dataset is - (232281, 3)\n",
      "-------------------------------------------------------------------------------------\n",
      "\n",
      "The features in the dataset are \n",
      "-------------------------------------------------------------------------------------\n",
      "Index(['application', 'entitlement', 'approval_status'], dtype='object')\n"
     ]
    }
   ],
   "source": [
    "print('The shape of the dataset is -',df.shape)\n",
    "print('-------------------------------------------------------------------------------------\\n')\n",
    "\n",
    "print('The features in the dataset are \\n-------------------------------------------------------------------------------------')\n",
    "print(df.columns)"
   ]
  },
  {
   "cell_type": "code",
   "execution_count": 6,
   "id": "7947f1d0",
   "metadata": {},
   "outputs": [
    {
     "name": "stdout",
     "output_type": "stream",
     "text": [
      "The shape of the dataframe with approved requests is - (221414, 3)\n"
     ]
    }
   ],
   "source": [
    "df_approved = df.loc[df['approval_status']=='Approved']\n",
    "\n",
    "print('The shape of the dataframe with approved requests is -',df_approved.shape)"
   ]
  },
  {
   "cell_type": "code",
   "execution_count": 7,
   "id": "893d42fb",
   "metadata": {},
   "outputs": [
    {
     "data": {
      "text/html": [
       "<div>\n",
       "<style scoped>\n",
       "    .dataframe tbody tr th:only-of-type {\n",
       "        vertical-align: middle;\n",
       "    }\n",
       "\n",
       "    .dataframe tbody tr th {\n",
       "        vertical-align: top;\n",
       "    }\n",
       "\n",
       "    .dataframe thead th {\n",
       "        text-align: right;\n",
       "    }\n",
       "</style>\n",
       "<table border=\"1\" class=\"dataframe\">\n",
       "  <thead>\n",
       "    <tr style=\"text-align: right;\">\n",
       "      <th></th>\n",
       "      <th></th>\n",
       "      <th>approval_status</th>\n",
       "    </tr>\n",
       "    <tr>\n",
       "      <th>entitlement</th>\n",
       "      <th>application</th>\n",
       "      <th></th>\n",
       "    </tr>\n",
       "  </thead>\n",
       "  <tbody>\n",
       "    <tr>\n",
       "      <th rowspan=\"5\" valign=\"top\">entitlement_0</th>\n",
       "      <th>Application_0</th>\n",
       "      <td>Rejected</td>\n",
       "    </tr>\n",
       "    <tr>\n",
       "      <th>Application_101</th>\n",
       "      <td>Approved</td>\n",
       "    </tr>\n",
       "    <tr>\n",
       "      <th>Application_102</th>\n",
       "      <td>Approved</td>\n",
       "    </tr>\n",
       "    <tr>\n",
       "      <th>Application_103</th>\n",
       "      <td>Approved</td>\n",
       "    </tr>\n",
       "    <tr>\n",
       "      <th>Application_1092</th>\n",
       "      <td>Approved</td>\n",
       "    </tr>\n",
       "    <tr>\n",
       "      <th>...</th>\n",
       "      <th>...</th>\n",
       "      <td>...</td>\n",
       "    </tr>\n",
       "    <tr>\n",
       "      <th>entitlement_95</th>\n",
       "      <th>Application_265</th>\n",
       "      <td>Rejected</td>\n",
       "    </tr>\n",
       "    <tr>\n",
       "      <th>entitlement_96</th>\n",
       "      <th>Application_265</th>\n",
       "      <td>Rejected</td>\n",
       "    </tr>\n",
       "    <tr>\n",
       "      <th>entitlement_97</th>\n",
       "      <th>Application_265</th>\n",
       "      <td>Approved</td>\n",
       "    </tr>\n",
       "    <tr>\n",
       "      <th>entitlement_98</th>\n",
       "      <th>Application_265</th>\n",
       "      <td>Approved</td>\n",
       "    </tr>\n",
       "    <tr>\n",
       "      <th>entitlement_99</th>\n",
       "      <th>Application_265</th>\n",
       "      <td>Approved</td>\n",
       "    </tr>\n",
       "  </tbody>\n",
       "</table>\n",
       "<p>2209 rows × 1 columns</p>\n",
       "</div>"
      ],
      "text/plain": [
       "                                approval_status\n",
       "entitlement    application                     \n",
       "entitlement_0  Application_0           Rejected\n",
       "               Application_101         Approved\n",
       "               Application_102         Approved\n",
       "               Application_103         Approved\n",
       "               Application_1092        Approved\n",
       "...                                         ...\n",
       "entitlement_95 Application_265         Rejected\n",
       "entitlement_96 Application_265         Rejected\n",
       "entitlement_97 Application_265         Approved\n",
       "entitlement_98 Application_265         Approved\n",
       "entitlement_99 Application_265         Approved\n",
       "\n",
       "[2209 rows x 1 columns]"
      ]
     },
     "execution_count": 7,
     "metadata": {},
     "output_type": "execute_result"
    }
   ],
   "source": [
    "#All requests grouped by application, entitlement and entitlement_value\n",
    "\n",
    "df_gb = df.groupby(['entitlement','application'])\n",
    "df_gb.first()"
   ]
  },
  {
   "cell_type": "code",
   "execution_count": 8,
   "id": "786e4ee2",
   "metadata": {},
   "outputs": [
    {
     "data": {
      "text/html": [
       "<div>\n",
       "<style scoped>\n",
       "    .dataframe tbody tr th:only-of-type {\n",
       "        vertical-align: middle;\n",
       "    }\n",
       "\n",
       "    .dataframe tbody tr th {\n",
       "        vertical-align: top;\n",
       "    }\n",
       "\n",
       "    .dataframe thead th {\n",
       "        text-align: right;\n",
       "    }\n",
       "</style>\n",
       "<table border=\"1\" class=\"dataframe\">\n",
       "  <thead>\n",
       "    <tr style=\"text-align: right;\">\n",
       "      <th></th>\n",
       "      <th></th>\n",
       "      <th>approval_status</th>\n",
       "    </tr>\n",
       "    <tr>\n",
       "      <th>entitlement</th>\n",
       "      <th>application</th>\n",
       "      <th></th>\n",
       "    </tr>\n",
       "  </thead>\n",
       "  <tbody>\n",
       "    <tr>\n",
       "      <th rowspan=\"5\" valign=\"top\">entitlement_0</th>\n",
       "      <th>Application_0</th>\n",
       "      <td>Approved</td>\n",
       "    </tr>\n",
       "    <tr>\n",
       "      <th>Application_101</th>\n",
       "      <td>Approved</td>\n",
       "    </tr>\n",
       "    <tr>\n",
       "      <th>Application_102</th>\n",
       "      <td>Approved</td>\n",
       "    </tr>\n",
       "    <tr>\n",
       "      <th>Application_103</th>\n",
       "      <td>Approved</td>\n",
       "    </tr>\n",
       "    <tr>\n",
       "      <th>Application_1092</th>\n",
       "      <td>Approved</td>\n",
       "    </tr>\n",
       "    <tr>\n",
       "      <th>...</th>\n",
       "      <th>...</th>\n",
       "      <td>...</td>\n",
       "    </tr>\n",
       "    <tr>\n",
       "      <th>entitlement_95</th>\n",
       "      <th>Application_265</th>\n",
       "      <td>Approved</td>\n",
       "    </tr>\n",
       "    <tr>\n",
       "      <th>entitlement_96</th>\n",
       "      <th>Application_265</th>\n",
       "      <td>Approved</td>\n",
       "    </tr>\n",
       "    <tr>\n",
       "      <th>entitlement_97</th>\n",
       "      <th>Application_265</th>\n",
       "      <td>Approved</td>\n",
       "    </tr>\n",
       "    <tr>\n",
       "      <th>entitlement_98</th>\n",
       "      <th>Application_265</th>\n",
       "      <td>Approved</td>\n",
       "    </tr>\n",
       "    <tr>\n",
       "      <th>entitlement_99</th>\n",
       "      <th>Application_265</th>\n",
       "      <td>Approved</td>\n",
       "    </tr>\n",
       "  </tbody>\n",
       "</table>\n",
       "<p>2193 rows × 1 columns</p>\n",
       "</div>"
      ],
      "text/plain": [
       "                                approval_status\n",
       "entitlement    application                     \n",
       "entitlement_0  Application_0           Approved\n",
       "               Application_101         Approved\n",
       "               Application_102         Approved\n",
       "               Application_103         Approved\n",
       "               Application_1092        Approved\n",
       "...                                         ...\n",
       "entitlement_95 Application_265         Approved\n",
       "entitlement_96 Application_265         Approved\n",
       "entitlement_97 Application_265         Approved\n",
       "entitlement_98 Application_265         Approved\n",
       "entitlement_99 Application_265         Approved\n",
       "\n",
       "[2193 rows x 1 columns]"
      ]
     },
     "execution_count": 8,
     "metadata": {},
     "output_type": "execute_result"
    }
   ],
   "source": [
    "#Approved requests grouped by entitlement\n",
    "\n",
    "df_gb_approved = df_approved.groupby(['entitlement','application'])\n",
    "df_gb_approved.first()"
   ]
  },
  {
   "cell_type": "code",
   "execution_count": 9,
   "id": "2bb02356",
   "metadata": {},
   "outputs": [],
   "source": [
    "df_gb_approved_count = df_gb_approved.count()\n",
    "df_gb_count = df_gb.count()"
   ]
  },
  {
   "cell_type": "code",
   "execution_count": 10,
   "id": "069cc433",
   "metadata": {},
   "outputs": [],
   "source": [
    "df_total = df_gb_count.reset_index()\n",
    "df_approved = df_gb_approved_count.reset_index()"
   ]
  },
  {
   "cell_type": "code",
   "execution_count": 11,
   "id": "1b46b70d",
   "metadata": {},
   "outputs": [
    {
     "data": {
      "text/plain": [
       "(2209, 3)"
      ]
     },
     "execution_count": 11,
     "metadata": {},
     "output_type": "execute_result"
    }
   ],
   "source": [
    "df_total.shape"
   ]
  },
  {
   "cell_type": "code",
   "execution_count": 12,
   "id": "93b8f21d",
   "metadata": {},
   "outputs": [
    {
     "data": {
      "text/plain": [
       "(2193, 3)"
      ]
     },
     "execution_count": 12,
     "metadata": {},
     "output_type": "execute_result"
    }
   ],
   "source": [
    "df_approved.shape"
   ]
  },
  {
   "cell_type": "markdown",
   "id": "60179ab2",
   "metadata": {},
   "source": [
    "#### To find difference in application-entitlement combinations in two datasets"
   ]
  },
  {
   "cell_type": "code",
   "execution_count": 13,
   "id": "1cc38aa9",
   "metadata": {},
   "outputs": [],
   "source": [
    "df_temp1 = df_total.drop('approval_status', axis=1)\n",
    "df_temp2 = df_approved.drop('approval_status' ,axis=1)"
   ]
  },
  {
   "cell_type": "code",
   "execution_count": 14,
   "id": "f94c8e92",
   "metadata": {},
   "outputs": [
    {
     "data": {
      "text/html": [
       "<div>\n",
       "<style scoped>\n",
       "    .dataframe tbody tr th:only-of-type {\n",
       "        vertical-align: middle;\n",
       "    }\n",
       "\n",
       "    .dataframe tbody tr th {\n",
       "        vertical-align: top;\n",
       "    }\n",
       "\n",
       "    .dataframe thead th {\n",
       "        text-align: right;\n",
       "    }\n",
       "</style>\n",
       "<table border=\"1\" class=\"dataframe\">\n",
       "  <thead>\n",
       "    <tr style=\"text-align: right;\">\n",
       "      <th></th>\n",
       "      <th>entitlement</th>\n",
       "      <th>application</th>\n",
       "    </tr>\n",
       "  </thead>\n",
       "  <tbody>\n",
       "    <tr>\n",
       "      <th>13</th>\n",
       "      <td>entitlement_0</td>\n",
       "      <td>Application_1159</td>\n",
       "    </tr>\n",
       "    <tr>\n",
       "      <th>517</th>\n",
       "      <td>entitlement_171</td>\n",
       "      <td>Application_563</td>\n",
       "    </tr>\n",
       "    <tr>\n",
       "      <th>518</th>\n",
       "      <td>entitlement_171</td>\n",
       "      <td>Application_564</td>\n",
       "    </tr>\n",
       "    <tr>\n",
       "      <th>538</th>\n",
       "      <td>entitlement_171</td>\n",
       "      <td>Application_588</td>\n",
       "    </tr>\n",
       "    <tr>\n",
       "      <th>539</th>\n",
       "      <td>entitlement_171</td>\n",
       "      <td>Application_589</td>\n",
       "    </tr>\n",
       "    <tr>\n",
       "      <th>554</th>\n",
       "      <td>entitlement_171</td>\n",
       "      <td>Application_615</td>\n",
       "    </tr>\n",
       "    <tr>\n",
       "      <th>573</th>\n",
       "      <td>entitlement_171</td>\n",
       "      <td>Application_655</td>\n",
       "    </tr>\n",
       "    <tr>\n",
       "      <th>630</th>\n",
       "      <td>entitlement_171</td>\n",
       "      <td>Application_751</td>\n",
       "    </tr>\n",
       "    <tr>\n",
       "      <th>911</th>\n",
       "      <td>entitlement_2</td>\n",
       "      <td>Application_1159</td>\n",
       "    </tr>\n",
       "    <tr>\n",
       "      <th>1055</th>\n",
       "      <td>entitlement_2</td>\n",
       "      <td>Application_221</td>\n",
       "    </tr>\n",
       "    <tr>\n",
       "      <th>1164</th>\n",
       "      <td>entitlement_2</td>\n",
       "      <td>Application_327</td>\n",
       "    </tr>\n",
       "    <tr>\n",
       "      <th>1354</th>\n",
       "      <td>entitlement_2</td>\n",
       "      <td>Application_513</td>\n",
       "    </tr>\n",
       "    <tr>\n",
       "      <th>1728</th>\n",
       "      <td>entitlement_2</td>\n",
       "      <td>Application_9</td>\n",
       "    </tr>\n",
       "    <tr>\n",
       "      <th>1734</th>\n",
       "      <td>entitlement_2</td>\n",
       "      <td>Application_906</td>\n",
       "    </tr>\n",
       "    <tr>\n",
       "      <th>2147</th>\n",
       "      <td>entitlement_6</td>\n",
       "      <td>Application_9</td>\n",
       "    </tr>\n",
       "    <tr>\n",
       "      <th>2168</th>\n",
       "      <td>entitlement_7</td>\n",
       "      <td>Application_9</td>\n",
       "    </tr>\n",
       "  </tbody>\n",
       "</table>\n",
       "</div>"
      ],
      "text/plain": [
       "          entitlement       application\n",
       "13      entitlement_0  Application_1159\n",
       "517   entitlement_171   Application_563\n",
       "518   entitlement_171   Application_564\n",
       "538   entitlement_171   Application_588\n",
       "539   entitlement_171   Application_589\n",
       "554   entitlement_171   Application_615\n",
       "573   entitlement_171   Application_655\n",
       "630   entitlement_171   Application_751\n",
       "911     entitlement_2  Application_1159\n",
       "1055    entitlement_2   Application_221\n",
       "1164    entitlement_2   Application_327\n",
       "1354    entitlement_2   Application_513\n",
       "1728    entitlement_2     Application_9\n",
       "1734    entitlement_2   Application_906\n",
       "2147    entitlement_6     Application_9\n",
       "2168    entitlement_7     Application_9"
      ]
     },
     "execution_count": 14,
     "metadata": {},
     "output_type": "execute_result"
    }
   ],
   "source": [
    "#Difference between two datasets\n",
    "\n",
    "df_temp3 = pd.concat([df_temp2, df_temp1]).drop_duplicates(keep=False)\n",
    "df_temp3"
   ]
  },
  {
   "cell_type": "code",
   "execution_count": 15,
   "id": "c22e0b14",
   "metadata": {},
   "outputs": [],
   "source": [
    "filter1 = list(df_temp3['entitlement'])\n",
    "filter2 = list(df_temp3['application'])"
   ]
  },
  {
   "cell_type": "code",
   "execution_count": 16,
   "id": "81bdb584",
   "metadata": {},
   "outputs": [
    {
     "data": {
      "text/plain": [
       "[13,\n",
       " 517,\n",
       " 518,\n",
       " 538,\n",
       " 539,\n",
       " 554,\n",
       " 573,\n",
       " 630,\n",
       " 911,\n",
       " 1055,\n",
       " 1164,\n",
       " 1354,\n",
       " 1728,\n",
       " 1734,\n",
       " 2147,\n",
       " 2168]"
      ]
     },
     "execution_count": 16,
     "metadata": {},
     "output_type": "execute_result"
    }
   ],
   "source": [
    "# Synchronizing the dataframes with each other\n",
    "\n",
    "indexes=[]\n",
    "\n",
    "for i in range(len(filter1)):\n",
    "    post = filter1[i]\n",
    "    app = filter2[i]\n",
    "    index = df_temp3.loc[df_temp3.entitlement==post].loc[df_temp3.application==app].index[0]\n",
    "    indexes.append(index)\n",
    "    \n",
    "indexes"
   ]
  },
  {
   "cell_type": "code",
   "execution_count": 17,
   "id": "7b51ca30",
   "metadata": {},
   "outputs": [
    {
     "data": {
      "text/plain": [
       "(2193, 3)"
      ]
     },
     "execution_count": 17,
     "metadata": {},
     "output_type": "execute_result"
    }
   ],
   "source": [
    "for x in indexes:\n",
    "    df_total.drop(x, inplace=True)\n",
    "    \n",
    "df_total.shape"
   ]
  },
  {
   "cell_type": "code",
   "execution_count": 18,
   "id": "7da51a6e",
   "metadata": {},
   "outputs": [
    {
     "data": {
      "text/plain": [
       "(2193, 3)"
      ]
     },
     "execution_count": 18,
     "metadata": {},
     "output_type": "execute_result"
    }
   ],
   "source": [
    "df_approved.shape"
   ]
  },
  {
   "cell_type": "code",
   "execution_count": 19,
   "id": "680d3a68",
   "metadata": {},
   "outputs": [],
   "source": [
    "df_total.reset_index(inplace=True)\n",
    "df_approved.reset_index(inplace=True)"
   ]
  },
  {
   "cell_type": "code",
   "execution_count": 20,
   "id": "0134cc49",
   "metadata": {},
   "outputs": [],
   "source": [
    "df_total.drop('index', axis=1, inplace=True)\n",
    "df_approved.drop('index', axis=1, inplace=True)"
   ]
  },
  {
   "cell_type": "code",
   "execution_count": 21,
   "id": "d9abb2a0",
   "metadata": {},
   "outputs": [
    {
     "name": "stdout",
     "output_type": "stream",
     "text": [
      "The features of the total dataset are -\n",
      " Index(['entitlement', 'application', 'approval_status'], dtype='object')\n",
      "-------------------------------------------------------------------------------------\n",
      "\n",
      "The features in the dataset with approved requests are \n",
      "-------------------------------------------------------------------------------------\n",
      "Index(['entitlement', 'application', 'approval_status'], dtype='object')\n"
     ]
    }
   ],
   "source": [
    "print('The features of the total dataset are -\\n',df_total.columns)\n",
    "print('-------------------------------------------------------------------------------------\\n')\n",
    "\n",
    "print('The features in the dataset with approved requests are \\n-------------------------------------------------------------------------------------')\n",
    "print(df_approved.columns)"
   ]
  },
  {
   "cell_type": "code",
   "execution_count": 22,
   "id": "3adabae9",
   "metadata": {},
   "outputs": [],
   "source": [
    "df_total.rename(columns={'approval_status':'total_requests'}, inplace=True)"
   ]
  },
  {
   "cell_type": "code",
   "execution_count": 23,
   "id": "4271efdf",
   "metadata": {},
   "outputs": [],
   "source": [
    "approved = df_approved['approval_status']\n",
    "df_total['approved'] = approved"
   ]
  },
  {
   "cell_type": "code",
   "execution_count": 24,
   "id": "85ce773d",
   "metadata": {},
   "outputs": [],
   "source": [
    "total = df_total['total_requests']\n",
    "per = (approved/total*100).round(2)\n",
    "\n",
    "df_total['percentage'] = per"
   ]
  },
  {
   "cell_type": "code",
   "execution_count": 25,
   "id": "7d226535",
   "metadata": {},
   "outputs": [
    {
     "data": {
      "text/html": [
       "<div>\n",
       "<style scoped>\n",
       "    .dataframe tbody tr th:only-of-type {\n",
       "        vertical-align: middle;\n",
       "    }\n",
       "\n",
       "    .dataframe tbody tr th {\n",
       "        vertical-align: top;\n",
       "    }\n",
       "\n",
       "    .dataframe thead th {\n",
       "        text-align: right;\n",
       "    }\n",
       "</style>\n",
       "<table border=\"1\" class=\"dataframe\">\n",
       "  <thead>\n",
       "    <tr style=\"text-align: right;\">\n",
       "      <th></th>\n",
       "      <th>entitlement</th>\n",
       "      <th>application</th>\n",
       "      <th>total_requests</th>\n",
       "      <th>approved</th>\n",
       "      <th>percentage</th>\n",
       "    </tr>\n",
       "  </thead>\n",
       "  <tbody>\n",
       "    <tr>\n",
       "      <th>0</th>\n",
       "      <td>entitlement_0</td>\n",
       "      <td>Application_0</td>\n",
       "      <td>489</td>\n",
       "      <td>420</td>\n",
       "      <td>85.89</td>\n",
       "    </tr>\n",
       "    <tr>\n",
       "      <th>1</th>\n",
       "      <td>entitlement_0</td>\n",
       "      <td>Application_101</td>\n",
       "      <td>21</td>\n",
       "      <td>21</td>\n",
       "      <td>100.00</td>\n",
       "    </tr>\n",
       "    <tr>\n",
       "      <th>2</th>\n",
       "      <td>entitlement_0</td>\n",
       "      <td>Application_102</td>\n",
       "      <td>4</td>\n",
       "      <td>4</td>\n",
       "      <td>100.00</td>\n",
       "    </tr>\n",
       "    <tr>\n",
       "      <th>3</th>\n",
       "      <td>entitlement_0</td>\n",
       "      <td>Application_103</td>\n",
       "      <td>74</td>\n",
       "      <td>72</td>\n",
       "      <td>97.30</td>\n",
       "    </tr>\n",
       "    <tr>\n",
       "      <th>4</th>\n",
       "      <td>entitlement_0</td>\n",
       "      <td>Application_1092</td>\n",
       "      <td>2</td>\n",
       "      <td>1</td>\n",
       "      <td>50.00</td>\n",
       "    </tr>\n",
       "    <tr>\n",
       "      <th>5</th>\n",
       "      <td>entitlement_0</td>\n",
       "      <td>Application_1093</td>\n",
       "      <td>779</td>\n",
       "      <td>766</td>\n",
       "      <td>98.33</td>\n",
       "    </tr>\n",
       "    <tr>\n",
       "      <th>6</th>\n",
       "      <td>entitlement_0</td>\n",
       "      <td>Application_1100</td>\n",
       "      <td>22</td>\n",
       "      <td>21</td>\n",
       "      <td>95.45</td>\n",
       "    </tr>\n",
       "    <tr>\n",
       "      <th>7</th>\n",
       "      <td>entitlement_0</td>\n",
       "      <td>Application_111</td>\n",
       "      <td>3</td>\n",
       "      <td>3</td>\n",
       "      <td>100.00</td>\n",
       "    </tr>\n",
       "    <tr>\n",
       "      <th>8</th>\n",
       "      <td>entitlement_0</td>\n",
       "      <td>Application_1111</td>\n",
       "      <td>2</td>\n",
       "      <td>2</td>\n",
       "      <td>100.00</td>\n",
       "    </tr>\n",
       "    <tr>\n",
       "      <th>9</th>\n",
       "      <td>entitlement_0</td>\n",
       "      <td>Application_1115</td>\n",
       "      <td>2</td>\n",
       "      <td>2</td>\n",
       "      <td>100.00</td>\n",
       "    </tr>\n",
       "    <tr>\n",
       "      <th>10</th>\n",
       "      <td>entitlement_0</td>\n",
       "      <td>Application_112</td>\n",
       "      <td>4</td>\n",
       "      <td>4</td>\n",
       "      <td>100.00</td>\n",
       "    </tr>\n",
       "    <tr>\n",
       "      <th>11</th>\n",
       "      <td>entitlement_0</td>\n",
       "      <td>Application_1129</td>\n",
       "      <td>68</td>\n",
       "      <td>67</td>\n",
       "      <td>98.53</td>\n",
       "    </tr>\n",
       "    <tr>\n",
       "      <th>12</th>\n",
       "      <td>entitlement_0</td>\n",
       "      <td>Application_113</td>\n",
       "      <td>90</td>\n",
       "      <td>89</td>\n",
       "      <td>98.89</td>\n",
       "    </tr>\n",
       "    <tr>\n",
       "      <th>13</th>\n",
       "      <td>entitlement_0</td>\n",
       "      <td>Application_117</td>\n",
       "      <td>96</td>\n",
       "      <td>95</td>\n",
       "      <td>98.96</td>\n",
       "    </tr>\n",
       "    <tr>\n",
       "      <th>14</th>\n",
       "      <td>entitlement_0</td>\n",
       "      <td>Application_118</td>\n",
       "      <td>92</td>\n",
       "      <td>89</td>\n",
       "      <td>96.74</td>\n",
       "    </tr>\n",
       "    <tr>\n",
       "      <th>15</th>\n",
       "      <td>entitlement_0</td>\n",
       "      <td>Application_119</td>\n",
       "      <td>17</td>\n",
       "      <td>12</td>\n",
       "      <td>70.59</td>\n",
       "    </tr>\n",
       "    <tr>\n",
       "      <th>16</th>\n",
       "      <td>entitlement_0</td>\n",
       "      <td>Application_1191</td>\n",
       "      <td>46</td>\n",
       "      <td>44</td>\n",
       "      <td>95.65</td>\n",
       "    </tr>\n",
       "    <tr>\n",
       "      <th>17</th>\n",
       "      <td>entitlement_0</td>\n",
       "      <td>Application_122</td>\n",
       "      <td>2</td>\n",
       "      <td>1</td>\n",
       "      <td>50.00</td>\n",
       "    </tr>\n",
       "    <tr>\n",
       "      <th>18</th>\n",
       "      <td>entitlement_0</td>\n",
       "      <td>Application_123</td>\n",
       "      <td>3</td>\n",
       "      <td>3</td>\n",
       "      <td>100.00</td>\n",
       "    </tr>\n",
       "    <tr>\n",
       "      <th>19</th>\n",
       "      <td>entitlement_0</td>\n",
       "      <td>Application_124</td>\n",
       "      <td>4</td>\n",
       "      <td>3</td>\n",
       "      <td>75.00</td>\n",
       "    </tr>\n",
       "  </tbody>\n",
       "</table>\n",
       "</div>"
      ],
      "text/plain": [
       "      entitlement       application  total_requests  approved  percentage\n",
       "0   entitlement_0     Application_0             489       420       85.89\n",
       "1   entitlement_0   Application_101              21        21      100.00\n",
       "2   entitlement_0   Application_102               4         4      100.00\n",
       "3   entitlement_0   Application_103              74        72       97.30\n",
       "4   entitlement_0  Application_1092               2         1       50.00\n",
       "5   entitlement_0  Application_1093             779       766       98.33\n",
       "6   entitlement_0  Application_1100              22        21       95.45\n",
       "7   entitlement_0   Application_111               3         3      100.00\n",
       "8   entitlement_0  Application_1111               2         2      100.00\n",
       "9   entitlement_0  Application_1115               2         2      100.00\n",
       "10  entitlement_0   Application_112               4         4      100.00\n",
       "11  entitlement_0  Application_1129              68        67       98.53\n",
       "12  entitlement_0   Application_113              90        89       98.89\n",
       "13  entitlement_0   Application_117              96        95       98.96\n",
       "14  entitlement_0   Application_118              92        89       96.74\n",
       "15  entitlement_0   Application_119              17        12       70.59\n",
       "16  entitlement_0  Application_1191              46        44       95.65\n",
       "17  entitlement_0   Application_122               2         1       50.00\n",
       "18  entitlement_0   Application_123               3         3      100.00\n",
       "19  entitlement_0   Application_124               4         3       75.00"
      ]
     },
     "execution_count": 25,
     "metadata": {},
     "output_type": "execute_result"
    }
   ],
   "source": [
    "df_total.head(20)"
   ]
  },
  {
   "cell_type": "code",
   "execution_count": 26,
   "id": "d1d0747c",
   "metadata": {},
   "outputs": [],
   "source": [
    "recommendations = df_total[['entitlement','application', 'percentage']].loc[df_total.total_requests>=10].loc[df_total.percentage>=80]"
   ]
  },
  {
   "cell_type": "code",
   "execution_count": 28,
   "id": "c3beb095",
   "metadata": {},
   "outputs": [],
   "source": [
    "def predict(post):\n",
    "    recommendations = df_total[['entitlement','application','percentage']].loc[df_total.entitlement==post]\n",
    "    if len(recommendations)>0:\n",
    "        return recommendations\n",
    "    else:\n",
    "        return 'No recommendations for this entitlement are available yet..!!!'"
   ]
  },
  {
   "cell_type": "code",
   "execution_count": 30,
   "id": "8d1678a0",
   "metadata": {},
   "outputs": [
    {
     "data": {
      "text/html": [
       "<div>\n",
       "<style scoped>\n",
       "    .dataframe tbody tr th:only-of-type {\n",
       "        vertical-align: middle;\n",
       "    }\n",
       "\n",
       "    .dataframe tbody tr th {\n",
       "        vertical-align: top;\n",
       "    }\n",
       "\n",
       "    .dataframe thead th {\n",
       "        text-align: right;\n",
       "    }\n",
       "</style>\n",
       "<table border=\"1\" class=\"dataframe\">\n",
       "  <thead>\n",
       "    <tr style=\"text-align: right;\">\n",
       "      <th></th>\n",
       "      <th>entitlement</th>\n",
       "      <th>application</th>\n",
       "      <th>percentage</th>\n",
       "    </tr>\n",
       "  </thead>\n",
       "  <tbody>\n",
       "    <tr>\n",
       "      <th>2176</th>\n",
       "      <td>entitlement_9</td>\n",
       "      <td>Application_1094</td>\n",
       "      <td>96.89</td>\n",
       "    </tr>\n",
       "    <tr>\n",
       "      <th>2177</th>\n",
       "      <td>entitlement_9</td>\n",
       "      <td>Application_1109</td>\n",
       "      <td>97.37</td>\n",
       "    </tr>\n",
       "    <tr>\n",
       "      <th>2178</th>\n",
       "      <td>entitlement_9</td>\n",
       "      <td>Application_1126</td>\n",
       "      <td>91.27</td>\n",
       "    </tr>\n",
       "    <tr>\n",
       "      <th>2179</th>\n",
       "      <td>entitlement_9</td>\n",
       "      <td>Application_1183</td>\n",
       "      <td>89.52</td>\n",
       "    </tr>\n",
       "    <tr>\n",
       "      <th>2180</th>\n",
       "      <td>entitlement_9</td>\n",
       "      <td>Application_13</td>\n",
       "      <td>94.00</td>\n",
       "    </tr>\n",
       "    <tr>\n",
       "      <th>2181</th>\n",
       "      <td>entitlement_9</td>\n",
       "      <td>Application_194</td>\n",
       "      <td>100.00</td>\n",
       "    </tr>\n",
       "    <tr>\n",
       "      <th>2182</th>\n",
       "      <td>entitlement_9</td>\n",
       "      <td>Application_229</td>\n",
       "      <td>85.98</td>\n",
       "    </tr>\n",
       "  </tbody>\n",
       "</table>\n",
       "</div>"
      ],
      "text/plain": [
       "        entitlement       application  percentage\n",
       "2176  entitlement_9  Application_1094       96.89\n",
       "2177  entitlement_9  Application_1109       97.37\n",
       "2178  entitlement_9  Application_1126       91.27\n",
       "2179  entitlement_9  Application_1183       89.52\n",
       "2180  entitlement_9    Application_13       94.00\n",
       "2181  entitlement_9   Application_194      100.00\n",
       "2182  entitlement_9   Application_229       85.98"
      ]
     },
     "execution_count": 30,
     "metadata": {},
     "output_type": "execute_result"
    }
   ],
   "source": [
    "output = predict('entitlement_9')\n",
    "output"
   ]
  },
  {
   "cell_type": "code",
   "execution_count": null,
   "id": "9f50dfd1",
   "metadata": {},
   "outputs": [],
   "source": []
  }
 ],
 "metadata": {
  "kernelspec": {
   "display_name": "Python 3 (ipykernel)",
   "language": "python",
   "name": "python3"
  },
  "language_info": {
   "codemirror_mode": {
    "name": "ipython",
    "version": 3
   },
   "file_extension": ".py",
   "mimetype": "text/x-python",
   "name": "python",
   "nbconvert_exporter": "python",
   "pygments_lexer": "ipython3",
   "version": "3.9.13"
  }
 },
 "nbformat": 4,
 "nbformat_minor": 5
}
