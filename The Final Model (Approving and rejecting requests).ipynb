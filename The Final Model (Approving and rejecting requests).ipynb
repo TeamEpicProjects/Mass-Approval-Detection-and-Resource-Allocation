{
 "cells": [
  {
   "cell_type": "code",
   "execution_count": 1,
   "id": "28b589be",
   "metadata": {},
   "outputs": [],
   "source": [
    "import pandas as pd\n",
    "import numpy as np\n",
    "import matplotlib.pyplot as plt\n",
    "from sklearn.preprocessing import LabelEncoder\n",
    "from sklearn.model_selection import train_test_split\n",
    "from sklearn.ensemble import RandomForestClassifier\n",
    "from sklearn.metrics import accuracy_score, f1_score, confusion_matrix, plot_confusion_matrix\n",
    "from imblearn.over_sampling import RandomOverSampler\n",
    "from imblearn.under_sampling import RandomUnderSampler"
   ]
  },
  {
   "cell_type": "code",
   "execution_count": 2,
   "id": "fb1371e3",
   "metadata": {},
   "outputs": [],
   "source": [
    "df = pd.read_excel('combined_data.xlsx')"
   ]
  },
  {
   "cell_type": "code",
   "execution_count": 3,
   "id": "d8f6d1c6",
   "metadata": {},
   "outputs": [
    {
     "data": {
      "text/html": [
       "<div>\n",
       "<style scoped>\n",
       "    .dataframe tbody tr th:only-of-type {\n",
       "        vertical-align: middle;\n",
       "    }\n",
       "\n",
       "    .dataframe tbody tr th {\n",
       "        vertical-align: top;\n",
       "    }\n",
       "\n",
       "    .dataframe thead th {\n",
       "        text-align: right;\n",
       "    }\n",
       "</style>\n",
       "<table border=\"1\" class=\"dataframe\">\n",
       "  <thead>\n",
       "    <tr style=\"text-align: right;\">\n",
       "      <th></th>\n",
       "      <th>UID</th>\n",
       "      <th>application</th>\n",
       "      <th>request_id</th>\n",
       "      <th>request_type</th>\n",
       "      <th>request_status</th>\n",
       "      <th>account_name</th>\n",
       "      <th>entitlement</th>\n",
       "      <th>entitlement_value</th>\n",
       "      <th>approval_type</th>\n",
       "      <th>approver</th>\n",
       "      <th>approved_on</th>\n",
       "      <th>approval_status</th>\n",
       "      <th>requested_on</th>\n",
       "      <th>Unnamed: 0</th>\n",
       "      <th>employeeType</th>\n",
       "      <th>dept</th>\n",
       "      <th>div</th>\n",
       "      <th>hrOrganizationCode</th>\n",
       "    </tr>\n",
       "  </thead>\n",
       "  <tbody>\n",
       "    <tr>\n",
       "      <th>0</th>\n",
       "      <td>requestee_0</td>\n",
       "      <td>Application_0</td>\n",
       "      <td>requestID_0</td>\n",
       "      <td>Modify Account</td>\n",
       "      <td>Approval Complete</td>\n",
       "      <td>account_0</td>\n",
       "      <td>entitlement_0</td>\n",
       "      <td>ent_val_0</td>\n",
       "      <td>app_type_0</td>\n",
       "      <td>approver_0</td>\n",
       "      <td>2020-04-29 19:37:00</td>\n",
       "      <td>Rejected</td>\n",
       "      <td>2020-04-20</td>\n",
       "      <td>201917</td>\n",
       "      <td>emType_2</td>\n",
       "      <td>dept_8828</td>\n",
       "      <td>div_60</td>\n",
       "      <td>hrCode_34</td>\n",
       "    </tr>\n",
       "    <tr>\n",
       "      <th>1</th>\n",
       "      <td>requestee_0</td>\n",
       "      <td>Application_0</td>\n",
       "      <td>requestID_0</td>\n",
       "      <td>Modify Account</td>\n",
       "      <td>Approval Complete</td>\n",
       "      <td>account_0</td>\n",
       "      <td>entitlement_0</td>\n",
       "      <td>ent_val_0</td>\n",
       "      <td>app_type_2</td>\n",
       "      <td>approver_33</td>\n",
       "      <td>2020-04-20 18:36:00</td>\n",
       "      <td>Approved</td>\n",
       "      <td>2020-04-20</td>\n",
       "      <td>201917</td>\n",
       "      <td>emType_2</td>\n",
       "      <td>dept_8828</td>\n",
       "      <td>div_60</td>\n",
       "      <td>hrCode_34</td>\n",
       "    </tr>\n",
       "    <tr>\n",
       "      <th>2</th>\n",
       "      <td>requestee_0</td>\n",
       "      <td>Application_26</td>\n",
       "      <td>requestID_4093</td>\n",
       "      <td>New Account</td>\n",
       "      <td>Approval Complete</td>\n",
       "      <td>account_0</td>\n",
       "      <td>entitlement_2</td>\n",
       "      <td>ent_val_6</td>\n",
       "      <td>app_type_28</td>\n",
       "      <td>approver_33</td>\n",
       "      <td>2020-04-23 18:47:00</td>\n",
       "      <td>Approved</td>\n",
       "      <td>2020-04-23</td>\n",
       "      <td>201917</td>\n",
       "      <td>emType_2</td>\n",
       "      <td>dept_8828</td>\n",
       "      <td>div_60</td>\n",
       "      <td>hrCode_34</td>\n",
       "    </tr>\n",
       "    <tr>\n",
       "      <th>3</th>\n",
       "      <td>requestee_1</td>\n",
       "      <td>Application_0</td>\n",
       "      <td>requestID_1</td>\n",
       "      <td>Modify Account</td>\n",
       "      <td>Approval Complete</td>\n",
       "      <td>account_1</td>\n",
       "      <td>entitlement_0</td>\n",
       "      <td>ent_val_1</td>\n",
       "      <td>app_type_1</td>\n",
       "      <td>approver_1</td>\n",
       "      <td>2020-04-21 05:00:00</td>\n",
       "      <td>Approved</td>\n",
       "      <td>2020-04-21</td>\n",
       "      <td>197651</td>\n",
       "      <td>emType_2</td>\n",
       "      <td>dept_9022</td>\n",
       "      <td>div_13</td>\n",
       "      <td>hrCode_116</td>\n",
       "    </tr>\n",
       "    <tr>\n",
       "      <th>4</th>\n",
       "      <td>requestee_10</td>\n",
       "      <td>Application_0</td>\n",
       "      <td>requestID_10</td>\n",
       "      <td>Modify Account</td>\n",
       "      <td>Approval Complete</td>\n",
       "      <td>account_10</td>\n",
       "      <td>entitlement_0</td>\n",
       "      <td>ent_val_3</td>\n",
       "      <td>app_type_2</td>\n",
       "      <td>approver_11</td>\n",
       "      <td>2020-04-20 05:42:00</td>\n",
       "      <td>Approved</td>\n",
       "      <td>2020-04-17</td>\n",
       "      <td>246295</td>\n",
       "      <td>emType_2</td>\n",
       "      <td>dept_6732</td>\n",
       "      <td>div_387</td>\n",
       "      <td>hrCode_11</td>\n",
       "    </tr>\n",
       "  </tbody>\n",
       "</table>\n",
       "</div>"
      ],
      "text/plain": [
       "            UID     application      request_id    request_type  \\\n",
       "0   requestee_0   Application_0     requestID_0  Modify Account   \n",
       "1   requestee_0   Application_0     requestID_0  Modify Account   \n",
       "2   requestee_0  Application_26  requestID_4093     New Account   \n",
       "3   requestee_1   Application_0     requestID_1  Modify Account   \n",
       "4  requestee_10   Application_0    requestID_10  Modify Account   \n",
       "\n",
       "      request_status account_name    entitlement entitlement_value  \\\n",
       "0  Approval Complete    account_0  entitlement_0         ent_val_0   \n",
       "1  Approval Complete    account_0  entitlement_0         ent_val_0   \n",
       "2  Approval Complete    account_0  entitlement_2         ent_val_6   \n",
       "3  Approval Complete    account_1  entitlement_0         ent_val_1   \n",
       "4  Approval Complete   account_10  entitlement_0         ent_val_3   \n",
       "\n",
       "  approval_type     approver         approved_on approval_status requested_on  \\\n",
       "0    app_type_0   approver_0 2020-04-29 19:37:00        Rejected   2020-04-20   \n",
       "1    app_type_2  approver_33 2020-04-20 18:36:00        Approved   2020-04-20   \n",
       "2   app_type_28  approver_33 2020-04-23 18:47:00        Approved   2020-04-23   \n",
       "3    app_type_1   approver_1 2020-04-21 05:00:00        Approved   2020-04-21   \n",
       "4    app_type_2  approver_11 2020-04-20 05:42:00        Approved   2020-04-17   \n",
       "\n",
       "   Unnamed: 0 employeeType       dept      div hrOrganizationCode  \n",
       "0      201917     emType_2  dept_8828   div_60          hrCode_34  \n",
       "1      201917     emType_2  dept_8828   div_60          hrCode_34  \n",
       "2      201917     emType_2  dept_8828   div_60          hrCode_34  \n",
       "3      197651     emType_2  dept_9022   div_13         hrCode_116  \n",
       "4      246295     emType_2  dept_6732  div_387          hrCode_11  "
      ]
     },
     "execution_count": 3,
     "metadata": {},
     "output_type": "execute_result"
    }
   ],
   "source": [
    "df.head()"
   ]
  },
  {
   "cell_type": "code",
   "execution_count": 4,
   "id": "205e3760",
   "metadata": {},
   "outputs": [],
   "source": [
    "df.drop(['approved_on', 'requested_on', 'approver',  'UID', 'request_id', 'Unnamed: 0'], axis=1, inplace=True)"
   ]
  },
  {
   "cell_type": "code",
   "execution_count": 5,
   "id": "0a18f4f3",
   "metadata": {},
   "outputs": [
    {
     "data": {
      "text/plain": [
       "(232281, 12)"
      ]
     },
     "execution_count": 5,
     "metadata": {},
     "output_type": "execute_result"
    }
   ],
   "source": [
    "df.shape"
   ]
  },
  {
   "cell_type": "code",
   "execution_count": 6,
   "id": "729beef9",
   "metadata": {},
   "outputs": [],
   "source": [
    "# Encoding the target variable\n",
    "\n",
    "df['approval_status'][df['approval_status'] == 'Approved'] = 1\n",
    "df['approval_status'][df['approval_status'] == 'Rejected'] = 0"
   ]
  },
  {
   "cell_type": "code",
   "execution_count": 7,
   "id": "7938886f",
   "metadata": {},
   "outputs": [],
   "source": [
    "# Dividing into dependent and independent variables\n",
    "\n",
    "X = df.drop(['approval_status'], axis=1)\n",
    "y = df['approval_status']"
   ]
  },
  {
   "cell_type": "code",
   "execution_count": 8,
   "id": "a07bce1f",
   "metadata": {},
   "outputs": [],
   "source": [
    "y = y.astype('int')"
   ]
  },
  {
   "cell_type": "code",
   "execution_count": 9,
   "id": "011b63c7",
   "metadata": {},
   "outputs": [],
   "source": [
    "# Encoding the independent variables (features)\n",
    "\n",
    "encoder = LabelEncoder()\n",
    "\n",
    "for col in X.columns:\n",
    "    X[col] = encoder.fit_transform(X[col])"
   ]
  },
  {
   "cell_type": "code",
   "execution_count": 10,
   "id": "d5e46400",
   "metadata": {},
   "outputs": [],
   "source": [
    "\n",
    "\n",
    "x_train, x_test, y_train, y_test = train_test_split(X, y, test_size=0.4, random_state=42)"
   ]
  },
  {
   "cell_type": "code",
   "execution_count": 11,
   "id": "81785b11",
   "metadata": {},
   "outputs": [],
   "source": [
    "rus = RandomUnderSampler()\n",
    "ros = RandomOverSampler()\n",
    "\n",
    "x_train_rus, y_train_rus = rus.fit_resample(x_train, y_train)\n",
    "x_train_ros, y_train_ros = ros.fit_resample(x_train, y_train)"
   ]
  },
  {
   "cell_type": "code",
   "execution_count": 12,
   "id": "8ef91b4c",
   "metadata": {},
   "outputs": [
    {
     "name": "stdout",
     "output_type": "stream",
     "text": [
      "Accuracy score for the RandomForestClassifier on oversampled data:  0.9701118250406294\n",
      "F1 Score for the RandomForestClassifier on oversampled data:  0.9843780764276031\n"
     ]
    }
   ],
   "source": [
    "rf_ros = RandomForestClassifier()\n",
    "rf_ros.fit(x_train_ros, y_train_ros)\n",
    "\n",
    "y_preds_rf_ros = rf_ros.predict(x_test)\n",
    "\n",
    "print(\"Accuracy score for the RandomForestClassifier on oversampled data: \", accuracy_score(y_preds_rf_ros, y_test))\n",
    "print(\"F1 Score for the RandomForestClassifier on oversampled data: \", f1_score(y_test, y_preds_rf_ros))"
   ]
  },
  {
   "cell_type": "code",
   "execution_count": 13,
   "id": "4d4c6f3a",
   "metadata": {},
   "outputs": [
    {
     "data": {
      "image/png": "[encoded data removed]",
      "text/plain": [
       "<Figure size 700x500 with 1 Axes>"
      ]
     },
     "metadata": {},
     "output_type": "display_data"
    }
   ],
   "source": [
    "fg, ax = plt.subplots(figsize = (7,5))\n",
    "feat_imp = pd.DataFrame(rf_ros.feature_importances_, index = X.columns, columns = ['importance'])\n",
    "feat_imp.sort_values('importance').plot(kind = 'bar', title = 'Feature Importance for Random Forest Classifier',ax = ax, color='#f97141')\n",
    "plt.show()"
   ]
  },
  {
   "cell_type": "code",
   "execution_count": null,
   "id": "3d711812",
   "metadata": {},
   "outputs": [],
   "source": []
  }
 ],
 "metadata": {
  "kernelspec": {
   "display_name": "Python 3 (ipykernel)",
   "language": "python",
   "name": "python3"
  },
  "language_info": {
   "codemirror_mode": {
    "name": "ipython",
    "version": 3
   },
   "file_extension": ".py",
   "mimetype": "text/x-python",
   "name": "python",
   "nbconvert_exporter": "python",
   "pygments_lexer": "ipython3",
   "version": "3.9.13"
  }
 },
 "nbformat": 4,
 "nbformat_minor": 5
}
