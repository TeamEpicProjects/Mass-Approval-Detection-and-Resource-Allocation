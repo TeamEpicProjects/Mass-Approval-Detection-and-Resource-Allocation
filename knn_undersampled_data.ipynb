{
  "nbformat": 4,
  "nbformat_minor": 0,
  "metadata": {
    "colab": {
      "provenance": []
    },
    "kernelspec": {
      "name": "python3",
      "display_name": "Python 3"
    },
    "language_info": {
      "name": "python"
    }
  },
  "cells": [
    {
      "cell_type": "code",
      "execution_count": null,
      "metadata": {
        "id": "Vtc22BAX0XmA"
      },
      "outputs": [],
      "source": [
        "import pandas as pd\n",
        "import numpy as np\n",
        "import matplotlib.pyplot as plt\n",
        "import seaborn as sns\n",
        "from sklearn.cluster import KMeans\n",
        "from math import sqrt"
      ]
    },
    {
      "cell_type": "code",
      "source": [
        "df = pd.read_csv('/content/drive/MyDrive/combined_data.csv')\n",
        "print('The shape of data for EDA is -', df.shape)"
      ],
      "metadata": {
        "colab": {
          "base_uri": "https://localhost:8080/"
        },
        "id": "f5iAdQCr0bcD",
        "outputId": "3db3ba3d-bdb1-41b1-aa22-5faa2ac1fa9d"
      },
      "execution_count": null,
      "outputs": [
        {
          "output_type": "stream",
          "name": "stdout",
          "text": [
            "The shape of data for EDA is - (232281, 18)\n"
          ]
        }
      ]
    },
    {
      "cell_type": "code",
      "source": [
        "print('The features in the dataset are -\\n', df.columns)"
      ],
      "metadata": {
        "colab": {
          "base_uri": "https://localhost:8080/"
        },
        "id": "WS8S9oWr01zU",
        "outputId": "8b2dd2ef-afd5-4c8b-fe4b-09e31728ebf5"
      },
      "execution_count": null,
      "outputs": [
        {
          "output_type": "stream",
          "name": "stdout",
          "text": [
            "The features in the dataset are -\n",
            " Index(['UID', 'application', 'request_id', 'request_type', 'request_status',\n",
            "       'account_name', 'entitlement', 'entitlement_value', 'approval_type',\n",
            "       'approver', 'approved_on', 'approval_status', 'requested_on',\n",
            "       'Unnamed: 0', 'employeeType', 'dept', 'div', 'hrOrganizationCode'],\n",
            "      dtype='object')\n"
          ]
        }
      ]
    },
    {
      "cell_type": "code",
      "source": [
        "print('The data types of variables in dataset -\\n', df.dtypes)"
      ],
      "metadata": {
        "colab": {
          "base_uri": "https://localhost:8080/"
        },
        "id": "Fb_oMXVm0-Bv",
        "outputId": "6cedea74-80ae-4130-a410-204ed9141fca"
      },
      "execution_count": null,
      "outputs": [
        {
          "output_type": "stream",
          "name": "stdout",
          "text": [
            "The data types of variables in dataset -\n",
            " UID                   object\n",
            "application           object\n",
            "request_id            object\n",
            "request_type          object\n",
            "request_status        object\n",
            "account_name          object\n",
            "entitlement           object\n",
            "entitlement_value     object\n",
            "approval_type         object\n",
            "approver              object\n",
            "approved_on           object\n",
            "approval_status       object\n",
            "requested_on          object\n",
            "Unnamed: 0             int64\n",
            "employeeType          object\n",
            "dept                  object\n",
            "div                   object\n",
            "hrOrganizationCode    object\n",
            "dtype: object\n"
          ]
        }
      ]
    },
    {
      "cell_type": "code",
      "source": [
        "columns=['approved_on','requested_on','Unnamed: 0','employeeType']\n",
        "df_reduced = df.drop(columns, axis=1)\n",
        "print('The shape of data with reduced features is -', df_reduced.shape)"
      ],
      "metadata": {
        "colab": {
          "base_uri": "https://localhost:8080/"
        },
        "id": "dXxMsrhj1GHn",
        "outputId": "5e999a8a-3ab1-4bc4-a78f-f7c7383477a1"
      },
      "execution_count": null,
      "outputs": [
        {
          "output_type": "stream",
          "name": "stdout",
          "text": [
            "The shape of data with reduced features is - (232281, 14)\n"
          ]
        }
      ]
    },
    {
      "cell_type": "code",
      "source": [
        "# Encoding the target variable\n",
        "\n",
        "df['approval_status'][df['approval_status'] == 'Approved'] = 1\n",
        "df['approval_status'][df['approval_status'] == 'Rejected'] = 0"
      ],
      "metadata": {
        "colab": {
          "base_uri": "https://localhost:8080/"
        },
        "id": "li5yNvNo3DdA",
        "outputId": "85b45c86-fe38-447f-b0cb-3463032c82eb"
      },
      "execution_count": null,
      "outputs": [
        {
          "output_type": "stream",
          "name": "stderr",
          "text": [
            "<ipython-input-6-7af10556c843>:3: SettingWithCopyWarning: \n",
            "A value is trying to be set on a copy of a slice from a DataFrame\n",
            "\n",
            "See the caveats in the documentation: https://pandas.pydata.org/pandas-docs/stable/user_guide/indexing.html#returning-a-view-versus-a-copy\n",
            "  df['approval_status'][df['approval_status'] == 'Approved'] = 1\n",
            "<ipython-input-6-7af10556c843>:4: SettingWithCopyWarning: \n",
            "A value is trying to be set on a copy of a slice from a DataFrame\n",
            "\n",
            "See the caveats in the documentation: https://pandas.pydata.org/pandas-docs/stable/user_guide/indexing.html#returning-a-view-versus-a-copy\n",
            "  df['approval_status'][df['approval_status'] == 'Rejected'] = 0\n"
          ]
        }
      ]
    },
    {
      "cell_type": "code",
      "source": [
        "# Encoding the target variable\n",
        "\n",
        "df['approval_status'][df['approval_status'] == 'Approved'] = 1\n",
        "df['approval_status'][df['approval_status'] == 'Rejected'] = 0"
      ],
      "metadata": {
        "colab": {
          "base_uri": "https://localhost:8080/"
        },
        "id": "nnwh5CkzTwK-",
        "outputId": "3f9b990b-92be-4a9a-8cad-d28789c60349"
      },
      "execution_count": null,
      "outputs": [
        {
          "output_type": "stream",
          "name": "stderr",
          "text": [
            "<ipython-input-7-7af10556c843>:3: SettingWithCopyWarning: \n",
            "A value is trying to be set on a copy of a slice from a DataFrame\n",
            "\n",
            "See the caveats in the documentation: https://pandas.pydata.org/pandas-docs/stable/user_guide/indexing.html#returning-a-view-versus-a-copy\n",
            "  df['approval_status'][df['approval_status'] == 'Approved'] = 1\n",
            "<ipython-input-7-7af10556c843>:4: SettingWithCopyWarning: \n",
            "A value is trying to be set on a copy of a slice from a DataFrame\n",
            "\n",
            "See the caveats in the documentation: https://pandas.pydata.org/pandas-docs/stable/user_guide/indexing.html#returning-a-view-versus-a-copy\n",
            "  df['approval_status'][df['approval_status'] == 'Rejected'] = 0\n"
          ]
        }
      ]
    },
    {
      "cell_type": "code",
      "source": [
        "# Dividing into dependent and independent variables\n",
        "\n",
        "X = df.drop(['approval_status'], axis=1)\n",
        "y = df['approval_status']"
      ],
      "metadata": {
        "id": "zA1G5dofWMfs"
      },
      "execution_count": null,
      "outputs": []
    },
    {
      "cell_type": "code",
      "source": [
        "y = y.astype('int')"
      ],
      "metadata": {
        "id": "4JtCE-rVTzB-"
      },
      "execution_count": null,
      "outputs": []
    },
    {
      "cell_type": "code",
      "source": [
        "# Encoding the independent variables (features)\n",
        "from sklearn.preprocessing import LabelEncoder\n",
        "\n",
        "encoder = LabelEncoder()\n",
        "\n",
        "for col in X.columns:\n",
        "    X[col] = encoder.fit_transform(X[col])"
      ],
      "metadata": {
        "id": "ZcQ2fBtkT0uC"
      },
      "execution_count": null,
      "outputs": []
    },
    {
      "cell_type": "code",
      "source": [
        "from sklearn.model_selection import train_test_split\n",
        "\n",
        "X_train, X_test, y_train, y_test = train_test_split(X, y, test_size=0.33, random_state=42)"
      ],
      "metadata": {
        "id": "SizKi3Qu1Ocp"
      },
      "execution_count": null,
      "outputs": []
    },
    {
      "cell_type": "code",
      "source": [
        "from imblearn.over_sampling import RandomOverSampler\n",
        "from imblearn.under_sampling import RandomUnderSampler\n",
        "\n",
        "rus = RandomUnderSampler()\n",
        "ros = RandomOverSampler()"
      ],
      "metadata": {
        "id": "FJYLpb6C1W1C"
      },
      "execution_count": null,
      "outputs": []
    },
    {
      "cell_type": "code",
      "source": [
        "X_train_rus, y_train_rus = rus.fit_resample(X_train, y_train)\n"
      ],
      "metadata": {
        "id": "SSJCpp0P1c6h"
      },
      "execution_count": null,
      "outputs": []
    },
    {
      "cell_type": "code",
      "source": [
        "from sklearn.neighbors import KNeighborsClassifier\n",
        "\n",
        "\n",
        "'''def predict(X_train, X_test, y_train, y_test):\n",
        "  #Setup arrays to store training and test accuracies\n",
        "  neighbors = np.arange(1,9)\n",
        "  train_accuracy =np.empty(len(neighbors))\n",
        "  test_accuracy = np.empty(len(neighbors))\n",
        "\n",
        "  for i,k in enumerate(neighbors):\n",
        "    #Setup a knn classifier with k neighbors\n",
        "    knn = KNeighborsClassifier(n_neighbors=k)\n",
        "    \n",
        "    #Fit the model\n",
        "    knn.fit(X_train, y_train)\n",
        "    \n",
        "    #Compute accuracy on the training set\n",
        "    train_accuracy[i] = knn.score(X_train, y_train)\n",
        "    \n",
        "    #Compute accuracy on the test set\n",
        "    test_accuracy[i] = knn.score(X_test, y_test)\n",
        "\n",
        "  plt.title('k-NN Varying number of neighbors')\n",
        "  plt.plot(neighbors, test_accuracy, label='Testing Accuracy')\n",
        "  plt.plot(neighbors, train_accuracy, label='Training accuracy')\n",
        "  plt.legend()\n",
        "  plt.xlabel('Number of neighbors')\n",
        "  plt.ylabel('Accuracy')\n",
        "  plt.show()\n",
        "  \n",
        "  return '''"
      ],
      "metadata": {
        "colab": {
          "base_uri": "https://localhost:8080/",
          "height": 140
        },
        "id": "XQz4MI_W2d6R",
        "outputId": "d5471866-b140-407f-9234-c377585f6ef5"
      },
      "execution_count": null,
      "outputs": [
        {
          "output_type": "execute_result",
          "data": {
            "text/plain": [
              "\"def predict(X_train, X_test, y_train, y_test):\\n  #Setup arrays to store training and test accuracies\\n  neighbors = np.arange(1,9)\\n  train_accuracy =np.empty(len(neighbors))\\n  test_accuracy = np.empty(len(neighbors))\\n\\n  for i,k in enumerate(neighbors):\\n    #Setup a knn classifier with k neighbors\\n    knn = KNeighborsClassifier(n_neighbors=k)\\n    \\n    #Fit the model\\n    knn.fit(X_train, y_train)\\n    \\n    #Compute accuracy on the training set\\n    train_accuracy[i] = knn.score(X_train, y_train)\\n    \\n    #Compute accuracy on the test set\\n    test_accuracy[i] = knn.score(X_test, y_test)\\n\\n  plt.title('k-NN Varying number of neighbors')\\n  plt.plot(neighbors, test_accuracy, label='Testing Accuracy')\\n  plt.plot(neighbors, train_accuracy, label='Training accuracy')\\n  plt.legend()\\n  plt.xlabel('Number of neighbors')\\n  plt.ylabel('Accuracy')\\n  plt.show()\\n  \\n  return \""
            ],
            "application/vnd.google.colaboratory.intrinsic+json": {
              "type": "string"
            }
          },
          "metadata": {},
          "execution_count": 14
        }
      ]
    },
    {
      "cell_type": "code",
      "source": [
        "knn = KNeighborsClassifier(n_neighbors=3)\n",
        "knn.fit(X_train_rus,y_train_rus)"
      ],
      "metadata": {
        "colab": {
          "base_uri": "https://localhost:8080/"
        },
        "id": "rcPIJXX0LTwY",
        "outputId": "7ae60b3e-037e-4c64-9021-1cecd3c7d97a"
      },
      "execution_count": null,
      "outputs": [
        {
          "output_type": "execute_result",
          "data": {
            "text/plain": [
              "KNeighborsClassifier(n_neighbors=3)"
            ]
          },
          "metadata": {},
          "execution_count": 16
        }
      ]
    },
    {
      "cell_type": "code",
      "source": [
        "knn.score(X_test,y_test)"
      ],
      "metadata": {
        "colab": {
          "base_uri": "https://localhost:8080/"
        },
        "id": "egfUGWa2LYZe",
        "outputId": "2c8d8d7f-0f7b-4523-bbc3-fd460dc1a1f9"
      },
      "execution_count": null,
      "outputs": [
        {
          "output_type": "execute_result",
          "data": {
            "text/plain": [
              "0.7403232750185903"
            ]
          },
          "metadata": {},
          "execution_count": 17
        }
      ]
    },
    {
      "cell_type": "code",
      "source": [
        "from sklearn.metrics import confusion_matrix\n",
        "\n",
        "#let us get the predictions using the classifier we had fit above\n",
        "y_pred = knn.predict(X_test)\n",
        "cf_matrix = confusion_matrix(y_test,y_pred)"
      ],
      "metadata": {
        "id": "Zr_GLA3QSNZA"
      },
      "execution_count": null,
      "outputs": []
    },
    {
      "cell_type": "code",
      "source": [
        "from sklearn.metrics import f1_score \n",
        "f1_score(y_test, y_pred)"
      ],
      "metadata": {
        "colab": {
          "base_uri": "https://localhost:8080/"
        },
        "id": "n0FMrp1Bmt0Z",
        "outputId": "e6827920-a6f8-41c4-eee3-95266fe8de7d"
      },
      "execution_count": null,
      "outputs": [
        {
          "output_type": "execute_result",
          "data": {
            "text/plain": [
              "0.8440621401208018"
            ]
          },
          "metadata": {},
          "execution_count": 19
        }
      ]
    },
    {
      "cell_type": "code",
      "source": [],
      "metadata": {
        "id": "pMuKu1_CpQvc"
      },
      "execution_count": null,
      "outputs": []
    }
  ]
}